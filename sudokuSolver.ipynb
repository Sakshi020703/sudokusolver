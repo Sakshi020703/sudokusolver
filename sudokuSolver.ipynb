{
 "cells": [
  {
   "cell_type": "code",
   "execution_count": 1,
   "id": "f8bfdd95-fe71-42bf-8e58-b8ed351db513",
   "metadata": {},
   "outputs": [],
   "source": [
    "import numpy as np"
   ]
  },
  {
   "cell_type": "code",
   "execution_count": 2,
   "id": "490226d5-7792-4efd-a8f4-53fcd1d28b32",
   "metadata": {},
   "outputs": [],
   "source": [
    "grid =[[5,3,0,0,7,0,0,0,0],\n",
    "       [6,0,0,1,9,5,0,0,0],\n",
    "       [0,9,8,0,0,0,0,6,0],\n",
    "       [8,0,0,0,6,0,0,0,3],\n",
    "       [4,0,0,8,0,3,0,0,1],\n",
    "       [7,0,0,0,2,0,0,0,6],\n",
    "       [0,6,0,0,0,0,2,8,0],\n",
    "       [0,0,0,4,1,9,0,0,5],\n",
    "       [0,0,0,0,8,0,0,0,0]]"
   ]
  },
  {
   "cell_type": "code",
   "execution_count": 3,
   "id": "c22079be-3ced-46c3-a671-872009ea513d",
   "metadata": {},
   "outputs": [
    {
     "name": "stdout",
     "output_type": "stream",
     "text": [
      "[[5 3 0 0 7 0 0 0 0]\n",
      " [6 0 0 1 9 5 0 0 0]\n",
      " [0 9 8 0 0 0 0 6 0]\n",
      " [8 0 0 0 6 0 0 0 3]\n",
      " [4 0 0 8 0 3 0 0 1]\n",
      " [7 0 0 0 2 0 0 0 6]\n",
      " [0 6 0 0 0 0 2 8 0]\n",
      " [0 0 0 4 1 9 0 0 5]\n",
      " [0 0 0 0 8 0 0 0 0]]\n"
     ]
    }
   ],
   "source": [
    "print(np.matrix(grid))"
   ]
  },
  {
   "cell_type": "code",
   "execution_count": 15,
   "id": "d39af220-c39e-45b3-91f1-536afeb24108",
   "metadata": {},
   "outputs": [],
   "source": [
    "def possible(row, column, number):\n",
    "    global grid\n",
    "    #Is the number appearing in the given row?\n",
    "    for i in range(0,9):\n",
    "        if grid[row][i] == number:\n",
    "            return False\n",
    "\n",
    "    #Is the number appearing in the given column?\n",
    "    for i in range(0,9):\n",
    "        if grid[i][column] == number:\n",
    "            return False\n",
    "\n",
    "    #Is the number appearing in the given square?\n",
    "    x0 = (column // 3) * 3\n",
    "    y0 = (row // 3) * 3\n",
    "    for i in range(0,3):\n",
    "        for j in range(0,3):\n",
    "            if grid[y0+i][x0+j] == number:\n",
    "                return False\n",
    "\n",
    "    return True"
   ]
  },
  {
   "cell_type": "code",
   "execution_count": null,
   "id": "ef8ad235-ae10-496d-b9fe-7ebf4369d5dc",
   "metadata": {},
   "outputs": [
    {
     "name": "stdout",
     "output_type": "stream",
     "text": [
      "[[5 3 4 6 7 8 1 9 2]\n",
      " [6 7 2 1 9 5 3 4 8]\n",
      " [1 9 8 3 4 2 5 6 7]\n",
      " [8 5 9 7 6 1 4 2 3]\n",
      " [4 2 6 8 5 3 9 7 1]\n",
      " [7 1 3 9 2 4 8 5 6]\n",
      " [9 6 1 5 3 7 2 8 4]\n",
      " [2 8 7 4 1 9 6 3 5]\n",
      " [3 4 5 2 8 6 7 1 9]]\n"
     ]
    }
   ],
   "source": [
    "def solve():\n",
    "    global grid\n",
    "    for row in range(0,9):\n",
    "        for column in range(0,9):\n",
    "            if grid[row][column] == 0:\n",
    "                for number in range(1,10):\n",
    "                    if possible(row, column, number):\n",
    "                        grid[row][column] = number\n",
    "                        solve()\n",
    "                        grid[row][column] = 0\n",
    "\n",
    "                return\n",
    "\n",
    "    print(np.matrix(grid))\n",
    "    input('More possible solutions')\n",
    "\n",
    "solve()\n",
    "\n",
    "\n"
   ]
  },
  {
   "cell_type": "code",
   "execution_count": null,
   "id": "d4760b24-60fe-411c-ab04-eb789e1c00c8",
   "metadata": {},
   "outputs": [],
   "source": []
  },
  {
   "cell_type": "code",
   "execution_count": null,
   "id": "b7ec33a1-527f-4734-a7d4-a681d24b94ed",
   "metadata": {},
   "outputs": [],
   "source": []
  }
 ],
 "metadata": {
  "kernelspec": {
   "display_name": "Python 3 (ipykernel)",
   "language": "python",
   "name": "python3"
  },
  "language_info": {
   "codemirror_mode": {
    "name": "ipython",
    "version": 3
   },
   "file_extension": ".py",
   "mimetype": "text/x-python",
   "name": "python",
   "nbconvert_exporter": "python",
   "pygments_lexer": "ipython3",
   "version": "3.12.1"
  }
 },
 "nbformat": 4,
 "nbformat_minor": 5
}
